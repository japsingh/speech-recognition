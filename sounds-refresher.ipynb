{
 "cells": [
  {
   "cell_type": "code",
   "execution_count": 24,
   "metadata": {},
   "outputs": [],
   "source": [
    "import pygame, pygame.sndarray\n",
    "from math import sin, pi"
   ]
  },
  {
   "cell_type": "code",
   "execution_count": 25,
   "metadata": {},
   "outputs": [
    {
     "name": "stdout",
     "output_type": "stream",
     "text": [
      "(44100, -16, 2)\n",
      "(44100, -16, 2)\n"
     ]
    }
   ],
   "source": [
    "pygame.mixer.pre_init(frequency=44100, size=-16, channels=1)\n",
    "pygame.mixer.init(frequency=44100, size=-16, channels=1)\n",
    "print(pygame.mixer.get_init())\n",
    "pygame.mixer.set_num_channels(1)\n",
    "print(pygame.mixer.get_init())"
   ]
  },
  {
   "cell_type": "code",
   "execution_count": 26,
   "metadata": {},
   "outputs": [
    {
     "data": {
      "text/plain": [
       "array([[-28332,  -9969],\n",
       "       [ 22311,  28641],\n",
       "       [  3166,  27733],\n",
       "       ...,\n",
       "       [-18933,  -8902],\n",
       "       [ -2154, -16110],\n",
       "       [ 12307,  -9942]])"
      ]
     },
     "execution_count": 26,
     "metadata": {},
     "output_type": "execute_result"
    }
   ],
   "source": [
    "import numpy as np\n",
    "arr = np.random.randint(-32768, 32767, size=44100*2).reshape((44100, 2))\n",
    "\n",
    "arr\n"
   ]
  },
  {
   "cell_type": "code",
   "execution_count": 27,
   "metadata": {},
   "outputs": [
    {
     "data": {
      "text/plain": [
       "<Channel at 0x25b2ae9e0d0>"
      ]
     },
     "execution_count": 27,
     "metadata": {},
     "output_type": "execute_result"
    }
   ],
   "source": [
    "sound = pygame.sndarray.make_sound(arr)\n",
    "sound.play()"
   ]
  },
  {
   "cell_type": "code",
   "execution_count": 28,
   "metadata": {},
   "outputs": [],
   "source": [
    "arr_light = np.random.randint(-1000, 1000, size=44100*2).reshape((44100, 2))\n",
    "sound = pygame.sndarray.make_sound(arr_light)\n",
    "sound.play()"
   ]
  },
  {
   "cell_type": "code",
   "execution_count": 38,
   "metadata": {},
   "outputs": [
    {
     "name": "stdout",
     "output_type": "stream",
     "text": [
      "[ 5000  5000  5000 ... -5000 -5000 -5000]\n",
      "[[ 5000  5000]\n",
      " [ 5000  5000]\n",
      " [ 5000  5000]\n",
      " ...\n",
      " [-5000 -5000]\n",
      " [-5000 -5000]\n",
      " [-5000 -5000]]\n"
     ]
    },
    {
     "data": {
      "text/plain": [
       "<Channel at 0x25b2adb0930>"
      ]
     },
     "execution_count": 38,
     "metadata": {},
     "output_type": "execute_result"
    }
   ],
   "source": [
    "\n",
    "form = np.repeat([5000,-5000],63) \n",
    "arr = np.tile(form,350)\n",
    "print(arr)\n",
    "arr = np.repeat(arr, 2).reshape((44100,2))\n",
    "print(arr)\n",
    "sound = pygame.sndarray.make_sound(arr)\n",
    "sound.play()\n"
   ]
  },
  {
   "cell_type": "code",
   "execution_count": 30,
   "metadata": {},
   "outputs": [],
   "source": [
    "def make_sinusoid(frequency,amplitude):\n",
    "    def f(t):\n",
    "        return amplitude * sin(2*pi*frequency*t)\n",
    "    return f"
   ]
  },
  {
   "cell_type": "code",
   "execution_count": 31,
   "metadata": {},
   "outputs": [],
   "source": [
    "def sample(f,start,end,count):\n",
    "    mapf = np.vectorize(f)\n",
    "    ts = np.arange(start,end,(end-start)/count)\n",
    "    values = mapf(ts)\n",
    "    return values.astype(np.int16)"
   ]
  },
  {
   "cell_type": "code",
   "execution_count": 40,
   "metadata": {},
   "outputs": [
    {
     "data": {
      "text/plain": [
       "<Channel at 0x25b296dffb0>"
      ]
     },
     "execution_count": 40,
     "metadata": {},
     "output_type": "execute_result"
    }
   ],
   "source": [
    "sinusoid = make_sinusoid(441,8000)\n",
    "arr = sample(sinusoid, 0, 1, 44100)\n",
    "arr = np.repeat(arr, 2).reshape((44100,2))\n",
    "sound = pygame.sndarray.make_sound(arr)\n",
    "sound.play()"
   ]
  },
  {
   "cell_type": "code",
   "execution_count": 44,
   "metadata": {},
   "outputs": [
    {
     "data": {
      "text/plain": [
       "<Channel at 0x25b2af1efb0>"
      ]
     },
     "execution_count": 44,
     "metadata": {},
     "output_type": "execute_result"
    }
   ],
   "source": [
    "def sawtooth(t):\n",
    "    return t%1\n",
    "def modified_sawtooth(t):\n",
    "    return 8000 * sawtooth(441*t)\n",
    "arr = sample(modified_sawtooth,0,1,44100)\n",
    "arr = np.repeat(arr, 2).reshape((44100,2))\n",
    "sound = pygame.sndarray.make_sound(arr)\n",
    "sound.play()\n"
   ]
  },
  {
   "cell_type": "code",
   "execution_count": null,
   "metadata": {},
   "outputs": [],
   "source": []
  },
  {
   "cell_type": "code",
   "execution_count": null,
   "metadata": {},
   "outputs": [],
   "source": []
  },
  {
   "cell_type": "code",
   "execution_count": null,
   "metadata": {},
   "outputs": [],
   "source": []
  },
  {
   "cell_type": "code",
   "execution_count": null,
   "metadata": {},
   "outputs": [],
   "source": []
  }
 ],
 "metadata": {
  "kernelspec": {
   "display_name": "Python 3",
   "language": "python",
   "name": "python3"
  },
  "language_info": {
   "codemirror_mode": {
    "name": "ipython",
    "version": 3
   },
   "file_extension": ".py",
   "mimetype": "text/x-python",
   "name": "python",
   "nbconvert_exporter": "python",
   "pygments_lexer": "ipython3",
   "version": "3.8.3"
  }
 },
 "nbformat": 4,
 "nbformat_minor": 4
}
